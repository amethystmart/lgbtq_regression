{
 "cells": [
  {
   "cell_type": "code",
   "execution_count": 38,
   "id": "a0036bbc-d72d-4150-b792-5483a769c598",
   "metadata": {},
   "outputs": [],
   "source": [
    "import requests\n",
    "from bs4 import BeautifulSoup\n",
    "import csv\n",
    "import re"
   ]
  },
  {
   "cell_type": "code",
   "execution_count": 59,
   "id": "f64a92d8-6586-4713-a07d-3bf3cdeb1031",
   "metadata": {},
   "outputs": [
    {
     "name": "stdout",
     "output_type": "stream",
     "text": [
      "Scraping https://www.equaldex.com/timeline/2025...\n"
     ]
    }
   ],
   "source": [
    "url = \"https://www.equaldex.com/timeline/2025\"\n",
    "print(f\"Scraping {url}...\")"
   ]
  },
  {
   "cell_type": "code",
   "execution_count": 60,
   "id": "3b3d8910-9fe2-4c45-aea5-4d57aec28193",
   "metadata": {},
   "outputs": [],
   "source": [
    "headers = {'User-Agent': 'Mozilla/5.0 (Windows NT 10.0; Win64; x64) Chrome/91.0.4472.124 Safari/537.36'}\n",
    "response = requests.get(url, headers=headers)\n"
   ]
  },
  {
   "cell_type": "code",
   "execution_count": 61,
   "id": "5ad422c2-e0a4-4f4a-b638-b07e14cb4981",
   "metadata": {},
   "outputs": [
    {
     "name": "stdout",
     "output_type": "stream",
     "text": [
      "Page loaded successfully!\n"
     ]
    }
   ],
   "source": [
    "if response.status_code == 200:\n",
    "    print(\"Page loaded successfully!\")"
   ]
  },
  {
   "cell_type": "code",
   "execution_count": 62,
   "id": "c0f0cd4e-94f9-42c6-87bc-4d901136cebc",
   "metadata": {},
   "outputs": [],
   "source": [
    "soup = BeautifulSoup(response.text, 'html.parser')"
   ]
  },
  {
   "cell_type": "code",
   "execution_count": 64,
   "id": "a49e2e2d-de8c-4e17-bc99-6e49b2fbdecf",
   "metadata": {},
   "outputs": [
    {
     "name": "stdout",
     "output_type": "stream",
     "text": [
      "Found 43 timeline items\n"
     ]
    }
   ],
   "source": [
    "timeline_items = soup.select('li.timeline_item')\n",
    "print(f\"Found {len(timeline_items)} timeline items\")"
   ]
  },
  {
   "cell_type": "code",
   "execution_count": 65,
   "id": "494738eb-344a-4cc1-861e-fb4d3634bae0",
   "metadata": {},
   "outputs": [],
   "source": [
    "events = []"
   ]
  },
  {
   "cell_type": "code",
   "execution_count": 103,
   "id": "13115fce-7b0b-454d-a496-ce529312e256",
   "metadata": {
    "collapsed": true,
    "jupyter": {
     "outputs_hidden": true
    }
   },
   "outputs": [
    {
     "name": "stdout",
     "output_type": "stream",
     "text": [
      "Date: July 1, Event: Iowa, United StatesLGBT housing discrimination bec...\n",
      "Date: , Event: Iowa, United StatesLGBT discrimination becomes ill...\n",
      "Date: , Event: Iowa, United StatesRight to change legal gender be...\n",
      "Date: , Event: New South Wales, AustraliaLegal recognition of non...\n",
      "Date: , Event: New South Wales, AustraliaRight to change legal ge...\n",
      "Date: , Event: CzechiaRight to change legal gender becomes legal,...\n",
      "Date: , Event: SwedenRight to change legal gender becomes legal, ...\n",
      "Date: , Event: IcelandBlood donations by MSMs becomes legal...\n",
      "Date: April 24, Event: Rio Grande do Sul, BrazilCensorship of LGBT issues...\n",
      "Date: , Event: PolandCensorship of LGBT issues becomes no censors...\n",
      "Date: April 17, Event: LithuaniaSame-sex marriage becomes civil unions (l...\n",
      "Date: April 16, Event: ArgentinaGender-affirming care becomes legal...\n",
      "Date: , Event: BrazilGender-affirming care becomes legal, but ban...\n",
      "Date: April 14, Event: HungaryCensorship of LGBT issues becomes other pun...\n",
      "Date: April 9, Event: Ohio, United StatesCensorship of LGBT issues becom...\n",
      "Date: April 8, Event: GreeceBlood donations by MSMs becomes banned (inde...\n",
      "Date: April 3, Event: New South Wales, AustraliaConversion therapy becom...\n",
      "Date: April 1, Event: Veracruz, MexicoRight to change legal gender becom...\n",
      "Date: , Event: South Australia, AustraliaConversion therapy becom...\n",
      "Date: March 26, Event: Kentucky, United StatesGender-affirming care becom...\n",
      "Date: , Event: Kentucky, United StatesConversion therapy becomes ...\n",
      "Date: March 25, Event: Trinidad and TobagoHomosexual activity becomes ill...\n",
      "Date: March 21, Event: ItalyCensorship of LGBT issues becomes state-enfor...\n",
      "Date: March 18, Event: Ohio, United StatesGender-affirming care becomes l...\n",
      "Date: , Event: United StatesServing openly in military becomes le...\n",
      "Date: March 4, Event: PolandRight to change legal gender becomes legal, ...\n",
      "Date: , Event: Mexico City, MexicoLegal recognition of non-binary...\n",
      "Date: February 20, Event: Kansas, United StatesGender-affirming care becomes...\n",
      "Date: February 13, Event: SurinameSame-sex marriage becomes foreign same-sex...\n",
      "Date: February 7, Event: United StatesServing openly in military becomes le...\n",
      "Date: , Event: ArgentinaGender-affirming care becomes legal, but ...\n",
      "Date: January 28, Event: AustraliaGender-affirming care becomes varies by r...\n",
      "Date: , Event: Queensland, AustraliaGender-affirming care becomes...\n",
      "Date: January 23, Event: United StatesLegal recognition of non-binary gende...\n",
      "Date: , Event: ThailandSame-sex adoption becomes legal...\n",
      "Date: January 22, Event: ThailandSame-sex marriage becomes legal...\n",
      "Date: January 21, Event: Molise, ItalyLGBT housing discrimination becomes s...\n",
      "Date: , Event: Molise, ItalyLGBT discrimination becomes illegal...\n",
      "Date: January 20, Event: United StatesRight to change legal gender becomes ...\n",
      "Date: January 1, Event: New Hampshire, United StatesGender-affirming care ...\n",
      "Date: , Event: CzechiaSame-sex adoption becomes second parent ado...\n",
      "Date: , Event: CzechiaSame-sex marriage becomes civil unions (mar...\n",
      "Date: , Event: LiechtensteinSame-sex marriage becomes legal...\n"
     ]
    }
   ],
   "source": [
    "for item in timeline_items:\n",
    "    date_div = item.select_one('div.timeline_date')\n",
    "    date = date_div.text.strip() if date_div else \"\"\n",
    "    \n",
    "    info_div = item.select_one('div.timeline_info')\n",
    "    if not info_div:\n",
    "        continue\n",
    "    \n",
    "    content = info_div.text.strip()\n",
    "    \n",
    "    parts = content.split('.', 1)\n",
    "    if len(parts) > 1:\n",
    "        event = parts[0].strip()\n",
    "        description = parts[1].strip()\n",
    "    else:\n",
    "        event = content\n",
    "        description = \"\"\n",
    "    \n",
    "    events.append([date, event, description])\n",
    "    print(f\"Date: {date}, Event: {event[:50]}...\")"
   ]
  },
  {
   "cell_type": "code",
   "execution_count": 104,
   "id": "4929fbce-7df3-4fef-9f8b-dd3dd047c763",
   "metadata": {},
   "outputs": [],
   "source": [
    "with open('equaldex_timeline_2025.csv', 'w', newline='', encoding='utf-8') as f:\n",
    "    writer = csv.writer(f)\n",
    "    writer.writerow(['Date', 'Event', 'Description'])\n",
    "    writer.writerows(events)"
   ]
  },
  {
   "cell_type": "code",
   "execution_count": null,
   "id": "627137cf-ccdc-46f2-876f-158aa56ed9e8",
   "metadata": {},
   "outputs": [],
   "source": []
  }
 ],
 "metadata": {
  "kernelspec": {
   "display_name": "Python 3 (ipykernel)",
   "language": "python",
   "name": "python3"
  },
  "language_info": {
   "codemirror_mode": {
    "name": "ipython",
    "version": 3
   },
   "file_extension": ".py",
   "mimetype": "text/x-python",
   "name": "python",
   "nbconvert_exporter": "python",
   "pygments_lexer": "ipython3",
   "version": "3.11.8"
  }
 },
 "nbformat": 4,
 "nbformat_minor": 5
}
